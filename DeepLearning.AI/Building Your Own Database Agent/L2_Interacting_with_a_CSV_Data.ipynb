{
 "cells": [
  {
   "cell_type": "markdown",
   "id": "d792f35b",
   "metadata": {},
   "source": [
    "# Lesson 2: Interacting with a CSV Data"
   ]
  },
  {
   "cell_type": "markdown",
   "id": "6be6d049",
   "metadata": {},
   "source": [
    "## Setup and connect to the Azure OpenAI endpoint"
   ]
  },
  {
   "cell_type": "markdown",
   "id": "399c89a2",
   "metadata": {},
   "source": [
    "**Note**: The pre-configured cloud resource grants you access to the Azure OpenAI GPT model. The key and endpoint provided below are intended for teaching purposes only. Your notebook environment is already set up with the necessary keys, which may differ from those used by the instructor during the filming."
   ]
  },
  {
   "cell_type": "code",
   "execution_count": 1,
   "id": "83ac3e59-d0d1-4110-a059-3a55d0d5e15e",
   "metadata": {
    "height": 217
   },
   "outputs": [],
   "source": [
    "import os \n",
    "import pandas as pd\n",
    "\n",
    "from IPython.display import Markdown, HTML, display\n",
    "from langchain.schema import HumanMessage\n",
    "from langchain_openai import AzureChatOpenAI\n",
    "\n",
    "model = AzureChatOpenAI(\n",
    "    openai_api_version=\"2023-05-15\",\n",
    "    azure_deployment=\"gpt-4-1106\",\n",
    "    azure_endpoint=os.getenv(\"AZURE_OPENAI_ENDPOINT\"),\n",
    ")"
   ]
  },
  {
   "cell_type": "markdown",
   "id": "ba9075a3",
   "metadata": {},
   "source": [
    "## Load the dataset"
   ]
  },
  {
   "cell_type": "markdown",
   "id": "fb0dc855",
   "metadata": {},
   "source": [
    "**Note**: To access the data locally, use the following code:\n",
    "\n",
    "```\n",
    "os.makedirs(\"data\",exist_ok=True)\n",
    "!wget https://covidtracking.com/data/download/all-states-history.csv -P ./data/\n",
    "file_url = \"./data/all-states-history.csv\"\n",
    "df = pd.read_csv(file_url).fillna(value = 0)\n",
    "```"
   ]
  },
  {
   "cell_type": "code",
   "execution_count": 2,
   "id": "b6c75799-55e2-4d39-a1ab-7b968b4f35a4",
   "metadata": {
    "height": 30
   },
   "outputs": [],
   "source": [
    "df = pd.read_csv(\"./data/all-states-history.csv\").fillna(value = 0)"
   ]
  },
  {
   "cell_type": "markdown",
   "id": "a6a261ac",
   "metadata": {},
   "source": [
    "## Prepare the Langchain dataframe agent"
   ]
  },
  {
   "cell_type": "code",
   "execution_count": 3,
   "id": "60d0793b-90e7-4e8b-b2f1-66a8d1cf652d",
   "metadata": {
    "height": 124
   },
   "outputs": [
    {
     "name": "stdout",
     "output_type": "stream",
     "text": [
      "\n",
      "\n",
      "\u001b[1m> Entering new AgentExecutor chain...\u001b[0m\n",
      "\u001b[32;1m\u001b[1;3mThought: To determine the number of rows in the dataframe `df`, we can use the `shape` attribute, which returns a tuple where the first element is the number of rows and the second is the number of columns.\n",
      "\n",
      "Action: Use the shape attribute of the dataframe `df` to find the number of rows.\n",
      "Action Input: df.shape\u001b[0m\n",
      "Observation: Use the shape attribute of the dataframe `df` to find the number of rows. is not a valid tool, try one of [python_repl_ast].\n",
      "Thought:\u001b[32;1m\u001b[1;3mApologies for the confusion. Let me proceed with the correct action to determine the number of rows in the dataframe.\n",
      "\n",
      "Action: Use the shape attribute of the dataframe `df` to find the number of rows using the Python shell.\n",
      "Action Input: python_repl_ast\n",
      "Action Input: df.shape\u001b[0m\n",
      "Observation: Use the shape attribute of the dataframe `df` to find the number of rows using the Python shell. is not a valid tool, try one of [python_repl_ast].\n",
      "Thought:\u001b[32;1m\u001b[1;3mThought: It seems that there was an error in the action input. Let's correct the input and try again to get the number of rows in the dataframe `df` using the Python shell.\n",
      "\n",
      "Action: Use the Python shell to check the shape of the dataframe `df`.\n",
      "Action Input: python_repl_ast\n",
      "Action Input: df.shape\u001b[0m\n",
      "Observation: Use the Python shell to check the shape of the dataframe `df`. is not a valid tool, try one of [python_repl_ast].\n",
      "Thought:\u001b[32;1m\u001b[1;3mI seem to have misunderstood the process. I should be providing the command directly to the python_repl_ast tool without stating it as an action input.\n",
      "\n",
      "Action: python_repl_ast\n",
      "Action Input: df.shape\u001b[0m\n",
      "Observation: \u001b[36;1m\u001b[1;3m(20780, 41)\u001b[0m\n",
      "Thought:\u001b[32;1m\u001b[1;3mI now know the number of rows in the dataframe `df`.\n",
      "\n",
      "Final Answer: There are 20,780 rows in the dataframe `df`.\u001b[0m\n",
      "\n",
      "\u001b[1m> Finished chain.\u001b[0m\n"
     ]
    },
    {
     "data": {
      "text/plain": [
       "{'input': 'how many rows are there?',\n",
       " 'output': 'There are 20,780 rows in the dataframe `df`.'}"
      ]
     },
     "execution_count": 3,
     "metadata": {},
     "output_type": "execute_result"
    }
   ],
   "source": [
    "from langchain.agents.agent_types import AgentType\n",
    "from langchain_experimental.agents.agent_toolkits import create_pandas_dataframe_agent\n",
    "\n",
    "agent = create_pandas_dataframe_agent(llm=model,df=df,verbose=True)\n",
    "\n",
    "agent.invoke(\"how many rows are there?\")"
   ]
  },
  {
   "cell_type": "markdown",
   "id": "7c6dedce",
   "metadata": {},
   "source": [
    "## Design your prompt and ask your question"
   ]
  },
  {
   "cell_type": "code",
   "execution_count": 4,
   "id": "0d005008-bad6-4458-90ec-6372d9ebe61c",
   "metadata": {
    "height": 523
   },
   "outputs": [
    {
     "name": "stdout",
     "output_type": "stream",
     "text": [
      "\n",
      "\n",
      "\u001b[1m> Entering new AgentExecutor chain...\u001b[0m\n",
      "\u001b[32;1m\u001b[1;3mThought: I need to set pandas display options to show all columns first and then get the column names from the dataframe `df`.\n",
      "\n",
      "Action: I will use the pandas `set_option` method to ensure all columns are displayed.\n",
      "\n",
      "Action Input:\n",
      "```python\n",
      "import pandas as pd\n",
      "pd.set_option('display.max_columns', None)\n",
      "```\n",
      "\u001b[0m\n",
      "Observation: I will use the pandas `set_option` method to ensure all columns are displayed. is not a valid tool, try one of [python_repl_ast].\n",
      "Thought:\u001b[32;1m\u001b[1;3mThought: I need to use the python_repl_ast to execute the Python command to set the pandas display options to show all columns.\n",
      "\n",
      "Action: python_repl_ast\n",
      "Action Input:\n",
      "```python\n",
      "import pandas as pd\n",
      "pd.set_option('display.max_columns', None)\n",
      "```\n",
      "\u001b[0m\n",
      "Observation: \u001b[36;1m\u001b[1;3m\u001b[0m\n",
      "Thought:\u001b[32;1m\u001b[1;3mThought: Now that I have set the display options, the next step is to get the column names from the dataframe `df`.\n",
      "\n",
      "Action: python_repl_ast\n",
      "Action Input:\n",
      "```python\n",
      "df.columns.tolist()\n",
      "```\n",
      "\u001b[0m\n",
      "Observation: \u001b[36;1m\u001b[1;3m['date', 'state', 'death', 'deathConfirmed', 'deathIncrease', 'deathProbable', 'hospitalized', 'hospitalizedCumulative', 'hospitalizedCurrently', 'hospitalizedIncrease', 'inIcuCumulative', 'inIcuCurrently', 'negative', 'negativeIncrease', 'negativeTestsAntibody', 'negativeTestsPeopleAntibody', 'negativeTestsViral', 'onVentilatorCumulative', 'onVentilatorCurrently', 'positive', 'positiveCasesViral', 'positiveIncrease', 'positiveScore', 'positiveTestsAntibody', 'positiveTestsAntigen', 'positiveTestsPeopleAntibody', 'positiveTestsPeopleAntigen', 'positiveTestsViral', 'recovered', 'totalTestEncountersViral', 'totalTestEncountersViralIncrease', 'totalTestResults', 'totalTestResultsIncrease', 'totalTestsAntibody', 'totalTestsAntigen', 'totalTestsPeopleAntibody', 'totalTestsPeopleAntigen', 'totalTestsPeopleViral', 'totalTestsPeopleViralIncrease', 'totalTestsViral', 'totalTestsViralIncrease']\u001b[0m\n",
      "Thought:\u001b[32;1m\u001b[1;3mI now have the list of column names, and the relevant column for the number of patients hospitalized during July 2020 seems to be 'hospitalizedCumulative'. However, I need to filter the data for the month of July 2020 and sum the values of 'hospitalizedCumulative' for that specific period.\n",
      "\n",
      "Action: python_repl_ast\n",
      "Action Input:\n",
      "```python\n",
      "# Convert the 'date' column to datetime format and set it as the index for easy filtering.\n",
      "df['date'] = pd.to_datetime(df['date'])\n",
      "df.set_index('date', inplace=True)\n",
      "\n",
      "# Sum the 'hospitalizedCumulative' column for the month of July 2020.\n",
      "july_2020_hospitalizations = df['2020-07']['hospitalizedCumulative'].sum()\n",
      "july_2020_hospitalizations\n",
      "```\n",
      "\u001b[0m\n",
      "Observation: \u001b[36;1m\u001b[1;3mKeyError: '2020-07'\u001b[0m\n",
      "Thought:\u001b[32;1m\u001b[1;3mThe attempt to filter the dataframe using the string '2020-07' resulted in a KeyError, which suggests that the date indexing or the filtering method is incorrect.\n",
      "\n",
      "I should first ensure that the 'date' column is converted to datetime and then try using the correct method to filter the dataframe by the date range corresponding to July 2020. After setting the 'date' column as the index, I can use the `.loc` accessor with the appropriate date range to filter the data.\n",
      "\n",
      "Action: python_repl_ast\n",
      "Action Input:\n",
      "```python\n",
      "# Convert the 'date' column to datetime format and set it as the index for easy filtering.\n",
      "df['date'] = pd.to_datetime(df['date'])\n",
      "df.set_index('date', inplace=True)\n",
      "\n",
      "# Filter the dataframe for the month of July 2020.\n",
      "july_2020 = df.loc['2020-07-01':'2020-07-31']\n",
      "\n",
      "# Sum the 'hospitalizedCumulative' column for filtered data.\n",
      "july_2020_hospitalizations = july_2020['hospitalizedCumulative'].sum()\n",
      "july_2020_hospitalizations\n",
      "```\u001b[0m\n",
      "Observation: \u001b[36;1m\u001b[1;3mKeyError: 'date'\u001b[0m\n",
      "Thought:\u001b[32;1m\u001b[1;3mThe KeyError suggests that the 'date' column might have already been set as the index or there is some other mistake. I need to check the current structure of the dataframe to understand why the KeyError occurred when trying to use the 'date' column.\n",
      "\n",
      "Action: python_repl_ast\n",
      "Action Input:\n",
      "```python\n",
      "df.info()\n",
      "```\n",
      "\u001b[0m\n",
      "Observation: \u001b[36;1m\u001b[1;3m<class 'pandas.core.frame.DataFrame'>\n",
      "DatetimeIndex: 20780 entries, 2021-03-07 to 2020-01-13\n",
      "Data columns (total 40 columns):\n",
      " #   Column                            Non-Null Count  Dtype  \n",
      "---  ------                            --------------  -----  \n",
      " 0   state                             20780 non-null  object \n",
      " 1   death                             20780 non-null  float64\n",
      " 2   deathConfirmed                    20780 non-null  float64\n",
      " 3   deathIncrease                     20780 non-null  int64  \n",
      " 4   deathProbable                     20780 non-null  float64\n",
      " 5   hospitalized                      20780 non-null  float64\n",
      " 6   hospitalizedCumulative            20780 non-null  float64\n",
      " 7   hospitalizedCurrently             20780 non-null  float64\n",
      " 8   hospitalizedIncrease              20780 non-null  int64  \n",
      " 9   inIcuCumulative                   20780 non-null  float64\n",
      " 10  inIcuCurrently                    20780 non-null  float64\n",
      " 11  negative                          20780 non-null  float64\n",
      " 12  negativeIncrease                  20780 non-null  int64  \n",
      " 13  negativeTestsAntibody             20780 non-null  float64\n",
      " 14  negativeTestsPeopleAntibody       20780 non-null  float64\n",
      " 15  negativeTestsViral                20780 non-null  float64\n",
      " 16  onVentilatorCumulative            20780 non-null  float64\n",
      " 17  onVentilatorCurrently             20780 non-null  float64\n",
      " 18  positive                          20780 non-null  float64\n",
      " 19  positiveCasesViral                20780 non-null  float64\n",
      " 20  positiveIncrease                  20780 non-null  int64  \n",
      " 21  positiveScore                     20780 non-null  int64  \n",
      " 22  positiveTestsAntibody             20780 non-null  float64\n",
      " 23  positiveTestsAntigen              20780 non-null  float64\n",
      " 24  positiveTestsPeopleAntibody       20780 non-null  float64\n",
      " 25  positiveTestsPeopleAntigen        20780 non-null  float64\n",
      " 26  positiveTestsViral                20780 non-null  float64\n",
      " 27  recovered                         20780 non-null  float64\n",
      " 28  totalTestEncountersViral          20780 non-null  float64\n",
      " 29  totalTestEncountersViralIncrease  20780 non-null  int64  \n",
      " 30  totalTestResults                  20780 non-null  float64\n",
      " 31  totalTestResultsIncrease          20780 non-null  int64  \n",
      " 32  totalTestsAntibody                20780 non-null  float64\n",
      " 33  totalTestsAntigen                 20780 non-null  float64\n",
      " 34  totalTestsPeopleAntibody          20780 non-null  float64\n",
      " 35  totalTestsPeopleAntigen           20780 non-null  float64\n",
      " 36  totalTestsPeopleViral             20780 non-null  float64\n",
      " 37  totalTestsPeopleViralIncrease     20780 non-null  int64  \n",
      " 38  totalTestsViral                   20780 non-null  float64\n",
      " 39  totalTestsViralIncrease           20780 non-null  int64  \n",
      "dtypes: float64(30), int64(9), object(1)\n",
      "memory usage: 6.5+ MB\n",
      "\u001b[0m\n",
      "Thought:\u001b[32;1m\u001b[1;3mThe dataframe indeed already has the 'date' column set as a DatetimeIndex, as indicated by the output of `df.info()`. Therefore, the KeyError occurred because I was attempting to re-convert and re-set the 'date' column that was already set as the index. Now, I can directly filter the dataframe for the month of July 2020 using the `.loc` accessor with the appropriate date range and sum the 'hospitalizedCumulative' column.\n",
      "\n",
      "Action: python_repl_ast\n",
      "Action Input:\n",
      "```python\n",
      "# Filter the dataframe for the month of July 2020.\n",
      "july_2020 = df.loc['2020-07-01':'2020-07-31']\n",
      "\n",
      "# Sum the 'hospitalizedCumulative' column for filtered data.\n",
      "july_2020_hospitalizations = july_2020['hospitalizedCumulative'].sum()\n",
      "july_2020_hospitalizations\n",
      "```\n",
      "\u001b[0m\n",
      "Observation: \u001b[36;1m\u001b[1;3mKeyError: 'Value based partial slicing on non-monotonic DatetimeIndexes with non-existing keys is not allowed.'\u001b[0m\n",
      "Thought:\u001b[32;1m\u001b[1;3mThe error message indicates that the DataFrame index is not sorted, or it doesn't contain all of the values for the given range. This prevents the use of partial string indexing to filter the DataFrame. I need to sort the index first and then attempt to filter the DataFrame for the data in July 2020 again.\n",
      "\n",
      "Action: python_repl_ast\n",
      "Action Input:\n",
      "```python\n",
      "# Sort the index to ensure it is monotonic.\n",
      "df.sort_index(inplace=True)\n",
      "\n",
      "# Attempt to filter the dataframe for the month of July 2020 again.\n",
      "july_2020 = df.loc['2020-07-01':'2020-07-31']\n",
      "\n",
      "# Sum the 'hospitalizedCumulative' column for filtered data.\n",
      "july_2020_hospitalizations = july_2020['hospitalizedCumulative'].sum()\n",
      "july_2020_hospitalizations\n",
      "```\n",
      "\u001b[0m\n",
      "Observation: \u001b[36;1m\u001b[1;3m5535849.0\u001b[0m\n"
     ]
    },
    {
     "name": "stdout",
     "output_type": "stream",
     "text": [
      "Thought:\u001b[32;1m\u001b[1;3mI have obtained a sum for the 'hospitalizedCumulative' column for July 2020, which suggests the total number of cumulative hospitalizations reported during that month across all states in the dataset. However, to validate this result, I should try a different approach to ensure the answer is correct. I will group the data by the 'state' column and then sum the 'hospitalizedCumulative' column for July 2020 to see if it yields the same result.\n",
      "\n",
      "Action: python_repl_ast\n",
      "Action Input:\n",
      "```python\n",
      "# Group the data by 'state' and sum the 'hospitalizedCumulative' column for July 2020.\n",
      "july_2020_state_hospitalizations = july_2020.groupby('state')['hospitalizedCumulative'].sum()\n",
      "total_july_2020_hospitalizations = july_2020_state_hospitalizations.sum()\n",
      "total_july_2020_hospitalizations\n",
      "```\n",
      "\u001b[0m\n",
      "Observation: \u001b[36;1m\u001b[1;3m5535849.0\u001b[0m\n",
      "Thought:\u001b[32;1m\u001b[1;3mBoth methods yielded the same result, which confirms that during July 2020, the cumulative number of hospitalizations reported was 5,535,849. Since the two methods agree, I am confident that this is the correct answer.\n",
      "\n",
      "Final Answer:\n",
      "\n",
      "The number of patients that were hospitalized during July 2020 was 5,535,849.\n",
      "\n",
      "Explanation:\n",
      "\n",
      "To arrive at this answer, I first set the pandas display options to show all columns, then I gathered the column names from the dataframe. I determined that the 'hospitalizedCumulative' column contained the relevant information. I then filtered the dataframe for the month of July 2020 using the date index after ensuring it was sorted. I summed the 'hospitalizedCumulative' values for this period, which gave me the total cumulative hospitalizations for July 2020.\n",
      "\n",
      "To validate this result, I tried a second method: grouping the July 2020 data by 'state' and summing the 'hospitalizedCumulative' column within each group, then summing those values for all states. This method also gave me the same total of 5,535,849, confirming the result obtained through the first method.\u001b[0m\n",
      "\n",
      "\u001b[1m> Finished chain.\u001b[0m\n"
     ]
    },
    {
     "data": {
      "text/plain": [
       "{'input': '\\nFirst set the pandas display options to show all the columns,\\nget the column names, then answer the question.\\nHow may patients were hospitalized during July 2020\\n- **ALWAYS** before giving the Final Answer, try another method.\\nThen reflect on the answers of the two methods you did and ask yourself\\nif it answers correctly the original question.\\nIf you are not sure, try another method.\\n- If the methods tried do not give the same result,reflect and\\ntry again until you have two methods that have the same result.\\n- If you still cannot arrive to a consistent result, say that\\nyou are not sure of the answer.\\n- If you are sure of the correct answer, create a beautiful\\nand thorough response using Markdown.\\n- **DO NOT MAKE UP AN ANSWER OR USE PRIOR KNOWLEDGE,\\nONLY USE THE RESULTS OF THE CALCULATIONS YOU HAVE DONE**.\\n- **ALWAYS**, as part of your \"Final Answer\", explain how you got\\nto the answer on a section that starts with: \"\\n\\nExplanation:\\n\".\\nIn the explanation, mention the column names that you used to get\\nto the final answer.\\n',\n",
       " 'output': \"The number of patients that were hospitalized during July 2020 was 5,535,849.\\n\\nExplanation:\\n\\nTo arrive at this answer, I first set the pandas display options to show all columns, then I gathered the column names from the dataframe. I determined that the 'hospitalizedCumulative' column contained the relevant information. I then filtered the dataframe for the month of July 2020 using the date index after ensuring it was sorted. I summed the 'hospitalizedCumulative' values for this period, which gave me the total cumulative hospitalizations for July 2020.\\n\\nTo validate this result, I tried a second method: grouping the July 2020 data by 'state' and summing the 'hospitalizedCumulative' column within each group, then summing those values for all states. This method also gave me the same total of 5,535,849, confirming the result obtained through the first method.\"}"
      ]
     },
     "execution_count": 4,
     "metadata": {},
     "output_type": "execute_result"
    }
   ],
   "source": [
    "CSV_PROMPT_PREFIX = \"\"\"\n",
    "First set the pandas display options to show all the columns,\n",
    "get the column names, then answer the question.\n",
    "\"\"\"\n",
    "\n",
    "CSV_PROMPT_SUFFIX = \"\"\"\n",
    "- **ALWAYS** before giving the Final Answer, try another method.\n",
    "Then reflect on the answers of the two methods you did and ask yourself\n",
    "if it answers correctly the original question.\n",
    "If you are not sure, try another method.\n",
    "- If the methods tried do not give the same result,reflect and\n",
    "try again until you have two methods that have the same result.\n",
    "- If you still cannot arrive to a consistent result, say that\n",
    "you are not sure of the answer.\n",
    "- If you are sure of the correct answer, create a beautiful\n",
    "and thorough response using Markdown.\n",
    "- **DO NOT MAKE UP AN ANSWER OR USE PRIOR KNOWLEDGE,\n",
    "ONLY USE THE RESULTS OF THE CALCULATIONS YOU HAVE DONE**.\n",
    "- **ALWAYS**, as part of your \"Final Answer\", explain how you got\n",
    "to the answer on a section that starts with: \"\\n\\nExplanation:\\n\".\n",
    "In the explanation, mention the column names that you used to get\n",
    "to the final answer.\n",
    "\"\"\"\n",
    "\n",
    "QUESTION = \"How may patients were hospitalized during July 2020\" \n",
    "\"in Texas, and nationwide as the total of all states?\"\n",
    "\"Use the hospitalizedIncrease column\" \n",
    "\n",
    "\n",
    "agent.invoke(CSV_PROMPT_PREFIX + QUESTION + CSV_PROMPT_SUFFIX)"
   ]
  },
  {
   "cell_type": "code",
   "execution_count": null,
   "id": "31d3feb5",
   "metadata": {
    "height": 30
   },
   "outputs": [],
   "source": []
  }
 ],
 "metadata": {
  "kernelspec": {
   "display_name": "Python 3 (ipykernel)",
   "language": "python",
   "name": "python3"
  },
  "language_info": {
   "codemirror_mode": {
    "name": "ipython",
    "version": 3
   },
   "file_extension": ".py",
   "mimetype": "text/x-python",
   "name": "python",
   "nbconvert_exporter": "python",
   "pygments_lexer": "ipython3",
   "version": "3.11.9"
  }
 },
 "nbformat": 4,
 "nbformat_minor": 5
}
